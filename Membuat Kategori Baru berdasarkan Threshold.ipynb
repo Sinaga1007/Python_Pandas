{
 "cells": [
  {
   "cell_type": "code",
   "execution_count": 1,
   "id": "c737d66d",
   "metadata": {},
   "outputs": [
    {
     "name": "stdout",
     "output_type": "stream",
     "text": [
      "1.2.4\n"
     ]
    }
   ],
   "source": [
    "#Terlebih dahulu mengimport modules\n",
    "\n",
    "import pandas as pd\n",
    "\n",
    "print(pd.__version__)"
   ]
  },
  {
   "cell_type": "code",
   "execution_count": 3,
   "id": "b0a64c98",
   "metadata": {},
   "outputs": [
    {
     "data": {
      "text/html": [
       "<div>\n",
       "<style scoped>\n",
       "    .dataframe tbody tr th:only-of-type {\n",
       "        vertical-align: middle;\n",
       "    }\n",
       "\n",
       "    .dataframe tbody tr th {\n",
       "        vertical-align: top;\n",
       "    }\n",
       "\n",
       "    .dataframe thead th {\n",
       "        text-align: right;\n",
       "    }\n",
       "</style>\n",
       "<table border=\"1\" class=\"dataframe\">\n",
       "  <thead>\n",
       "    <tr style=\"text-align: right;\">\n",
       "      <th></th>\n",
       "      <th>Hobi</th>\n",
       "    </tr>\n",
       "  </thead>\n",
       "  <tbody>\n",
       "    <tr>\n",
       "      <th>0</th>\n",
       "      <td>Berenang</td>\n",
       "    </tr>\n",
       "    <tr>\n",
       "      <th>1</th>\n",
       "      <td>Sepak Bola</td>\n",
       "    </tr>\n",
       "    <tr>\n",
       "      <th>2</th>\n",
       "      <td>Basket</td>\n",
       "    </tr>\n",
       "    <tr>\n",
       "      <th>3</th>\n",
       "      <td>Basket</td>\n",
       "    </tr>\n",
       "    <tr>\n",
       "      <th>4</th>\n",
       "      <td>Basket</td>\n",
       "    </tr>\n",
       "    <tr>\n",
       "      <th>5</th>\n",
       "      <td>Lari</td>\n",
       "    </tr>\n",
       "    <tr>\n",
       "      <th>6</th>\n",
       "      <td>Lari</td>\n",
       "    </tr>\n",
       "    <tr>\n",
       "      <th>7</th>\n",
       "      <td>Sepak Bola</td>\n",
       "    </tr>\n",
       "    <tr>\n",
       "      <th>8</th>\n",
       "      <td>Fotografi</td>\n",
       "    </tr>\n",
       "    <tr>\n",
       "      <th>9</th>\n",
       "      <td>Sepak Bola</td>\n",
       "    </tr>\n",
       "    <tr>\n",
       "      <th>10</th>\n",
       "      <td>Camping</td>\n",
       "    </tr>\n",
       "  </tbody>\n",
       "</table>\n",
       "</div>"
      ],
      "text/plain": [
       "          Hobi\n",
       "0     Berenang\n",
       "1   Sepak Bola\n",
       "2       Basket\n",
       "3       Basket\n",
       "4       Basket\n",
       "5         Lari\n",
       "6         Lari\n",
       "7   Sepak Bola\n",
       "8    Fotografi\n",
       "9   Sepak Bola\n",
       "10     Camping"
      ]
     },
     "execution_count": 3,
     "metadata": {},
     "output_type": "execute_result"
    }
   ],
   "source": [
    "#Mempersiapkan data frame\n",
    "\n",
    "d = {'Hobi':['Berenang', 'Sepak Bola', 'Basket',\n",
    "             'Basket', 'Basket', 'Lari',\n",
    "             'Lari', 'Sepak Bola', 'Fotografi',\n",
    "             'Sepak Bola', 'Camping']}\n",
    "\n",
    "df = pd.DataFrame(d)\n",
    "df"
   ]
  },
  {
   "cell_type": "code",
   "execution_count": 4,
   "id": "981e2055",
   "metadata": {},
   "outputs": [
    {
     "data": {
      "text/plain": [
       "Basket        3\n",
       "Sepak Bola    3\n",
       "Lari          2\n",
       "Berenang      1\n",
       "Camping       1\n",
       "Fotografi     1\n",
       "Name: Hobi, dtype: int64"
      ]
     },
     "execution_count": 4,
     "metadata": {},
     "output_type": "execute_result"
    }
   ],
   "source": [
    "#Membuat kategori baru berdasarkan threshold (ambang batas)\n",
    "\n",
    "df['Hobi'].value_counts() #Memunculkan isi dari kolom hobi tersebut"
   ]
  },
  {
   "cell_type": "code",
   "execution_count": 5,
   "id": "1a952de3",
   "metadata": {},
   "outputs": [
    {
     "data": {
      "text/plain": [
       "Basket        0.272727\n",
       "Sepak Bola    0.272727\n",
       "Lari          0.181818\n",
       "Berenang      0.090909\n",
       "Camping       0.090909\n",
       "Fotografi     0.090909\n",
       "Name: Hobi, dtype: float64"
      ]
     },
     "execution_count": 5,
     "metadata": {},
     "output_type": "execute_result"
    }
   ],
   "source": [
    "persentase = df['Hobi'].value_counts(normalize=True)  #Untuk mengetahui persentasi tiap baris pada kolom hobi\n",
    "persentase"
   ]
  },
  {
   "cell_type": "code",
   "execution_count": 6,
   "id": "bf0ce71d",
   "metadata": {},
   "outputs": [
    {
     "data": {
      "text/plain": [
       "Index(['Berenang', 'Camping', 'Fotografi'], dtype='object')"
      ]
     },
     "execution_count": 6,
     "metadata": {},
     "output_type": "execute_result"
    }
   ],
   "source": [
    "threshold = 0.1\n",
    "hobi_lain = persentase[persentase < threshold].index  #.index dipanggil karena ingin menyimpan nilai labelnya \n",
    "hobi_lain"
   ]
  },
  {
   "cell_type": "code",
   "execution_count": 7,
   "id": "b5a379cb",
   "metadata": {},
   "outputs": [
    {
     "data": {
      "text/plain": [
       "0        lainnya\n",
       "1     Sepak Bola\n",
       "2         Basket\n",
       "3         Basket\n",
       "4         Basket\n",
       "5           Lari\n",
       "6           Lari\n",
       "7     Sepak Bola\n",
       "8        lainnya\n",
       "9     Sepak Bola\n",
       "10       lainnya\n",
       "Name: Hobi, dtype: object"
      ]
     },
     "execution_count": 7,
     "metadata": {},
     "output_type": "execute_result"
    }
   ],
   "source": [
    "df['Hobi'] = df['Hobi'].replace(hobi_lain, 'lainnya') #berenang, camping dan fotografi akan berubah menjadi string lainnya ketika dimasukkan replace\n",
    "df['Hobi']"
   ]
  },
  {
   "cell_type": "code",
   "execution_count": 8,
   "id": "b29b9b9d",
   "metadata": {},
   "outputs": [
    {
     "data": {
      "text/plain": [
       "Sepak Bola    0.272727\n",
       "Basket        0.272727\n",
       "lainnya       0.272727\n",
       "Lari          0.181818\n",
       "Name: Hobi, dtype: float64"
      ]
     },
     "execution_count": 8,
     "metadata": {},
     "output_type": "execute_result"
    }
   ],
   "source": [
    "df['Hobi'].value_counts(normalize=True) #Untuk menghitung proporsinya"
   ]
  },
  {
   "cell_type": "code",
   "execution_count": null,
   "id": "79294c2c",
   "metadata": {},
   "outputs": [],
   "source": []
  }
 ],
 "metadata": {
  "kernelspec": {
   "display_name": "Python 3",
   "language": "python",
   "name": "python3"
  },
  "language_info": {
   "codemirror_mode": {
    "name": "ipython",
    "version": 3
   },
   "file_extension": ".py",
   "mimetype": "text/x-python",
   "name": "python",
   "nbconvert_exporter": "python",
   "pygments_lexer": "ipython3",
   "version": "3.8.8"
  }
 },
 "nbformat": 4,
 "nbformat_minor": 5
}
