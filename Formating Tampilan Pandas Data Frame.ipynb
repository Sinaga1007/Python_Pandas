{
 "cells": [
  {
   "cell_type": "code",
   "execution_count": 1,
   "id": "b6717b1e",
   "metadata": {},
   "outputs": [
    {
     "name": "stdout",
     "output_type": "stream",
     "text": [
      "1.2.4\n",
      "1.20.1\n"
     ]
    }
   ],
   "source": [
    "#Terlebih dahulu mengimport modules\n",
    "\n",
    "import pandas as pd\n",
    "import numpy as np\n",
    "\n",
    "print(pd.__version__)\n",
    "print(np.__version__)"
   ]
  },
  {
   "cell_type": "code",
   "execution_count": 2,
   "id": "af5963da",
   "metadata": {},
   "outputs": [
    {
     "data": {
      "text/html": [
       "<div>\n",
       "<style scoped>\n",
       "    .dataframe tbody tr th:only-of-type {\n",
       "        vertical-align: middle;\n",
       "    }\n",
       "\n",
       "    .dataframe tbody tr th {\n",
       "        vertical-align: top;\n",
       "    }\n",
       "\n",
       "    .dataframe thead th {\n",
       "        text-align: right;\n",
       "    }\n",
       "</style>\n",
       "<table border=\"1\" class=\"dataframe\">\n",
       "  <thead>\n",
       "    <tr style=\"text-align: right;\">\n",
       "      <th></th>\n",
       "      <th>Omset</th>\n",
       "      <th>Operasional</th>\n",
       "    </tr>\n",
       "  </thead>\n",
       "  <tbody>\n",
       "    <tr>\n",
       "      <th>0</th>\n",
       "      <td>10</td>\n",
       "      <td>15</td>\n",
       "    </tr>\n",
       "    <tr>\n",
       "      <th>1</th>\n",
       "      <td>16</td>\n",
       "      <td>3</td>\n",
       "    </tr>\n",
       "    <tr>\n",
       "      <th>2</th>\n",
       "      <td>17</td>\n",
       "      <td>9</td>\n",
       "    </tr>\n",
       "    <tr>\n",
       "      <th>3</th>\n",
       "      <td>7</td>\n",
       "      <td>10</td>\n",
       "    </tr>\n",
       "    <tr>\n",
       "      <th>4</th>\n",
       "      <td>6</td>\n",
       "      <td>18</td>\n",
       "    </tr>\n",
       "    <tr>\n",
       "      <th>5</th>\n",
       "      <td>4</td>\n",
       "      <td>19</td>\n",
       "    </tr>\n",
       "  </tbody>\n",
       "</table>\n",
       "</div>"
      ],
      "text/plain": [
       "   Omset  Operasional\n",
       "0     10           15\n",
       "1     16            3\n",
       "2     17            9\n",
       "3      7           10\n",
       "4      6           18\n",
       "5      4           19"
      ]
     },
     "execution_count": 2,
     "metadata": {},
     "output_type": "execute_result"
    }
   ],
   "source": [
    "#Mempersiapkan Data Frame tahap 1\n",
    "\n",
    "n_rows = 6\n",
    "n_cols = 2\n",
    "cols = ['Omset', 'Operasional']\n",
    "\n",
    "df = pd.DataFrame(np.random.randint(1, 20, size=(n_rows, n_cols)), #berisi bilangan integer acak\n",
    "                  columns=cols)\n",
    "df"
   ]
  },
  {
   "cell_type": "code",
   "execution_count": 3,
   "id": "44e22694",
   "metadata": {},
   "outputs": [
    {
     "data": {
      "text/html": [
       "<div>\n",
       "<style scoped>\n",
       "    .dataframe tbody tr th:only-of-type {\n",
       "        vertical-align: middle;\n",
       "    }\n",
       "\n",
       "    .dataframe tbody tr th {\n",
       "        vertical-align: top;\n",
       "    }\n",
       "\n",
       "    .dataframe thead th {\n",
       "        text-align: right;\n",
       "    }\n",
       "</style>\n",
       "<table border=\"1\" class=\"dataframe\">\n",
       "  <thead>\n",
       "    <tr style=\"text-align: right;\">\n",
       "      <th></th>\n",
       "      <th>Omset</th>\n",
       "      <th>Operasional</th>\n",
       "    </tr>\n",
       "  </thead>\n",
       "  <tbody>\n",
       "    <tr>\n",
       "      <th>0</th>\n",
       "      <td>1000000</td>\n",
       "      <td>150000</td>\n",
       "    </tr>\n",
       "    <tr>\n",
       "      <th>1</th>\n",
       "      <td>1600000</td>\n",
       "      <td>30000</td>\n",
       "    </tr>\n",
       "    <tr>\n",
       "      <th>2</th>\n",
       "      <td>1700000</td>\n",
       "      <td>90000</td>\n",
       "    </tr>\n",
       "    <tr>\n",
       "      <th>3</th>\n",
       "      <td>700000</td>\n",
       "      <td>100000</td>\n",
       "    </tr>\n",
       "    <tr>\n",
       "      <th>4</th>\n",
       "      <td>600000</td>\n",
       "      <td>180000</td>\n",
       "    </tr>\n",
       "    <tr>\n",
       "      <th>5</th>\n",
       "      <td>400000</td>\n",
       "      <td>190000</td>\n",
       "    </tr>\n",
       "  </tbody>\n",
       "</table>\n",
       "</div>"
      ],
      "text/plain": [
       "     Omset  Operasional\n",
       "0  1000000       150000\n",
       "1  1600000        30000\n",
       "2  1700000        90000\n",
       "3   700000       100000\n",
       "4   600000       180000\n",
       "5   400000       190000"
      ]
     },
     "execution_count": 3,
     "metadata": {},
     "output_type": "execute_result"
    }
   ],
   "source": [
    "#Mempersiapkan Data Frame tahap 2\n",
    "\n",
    "df['Omset'] = df['Omset'] * 100_000\n",
    "df['Operasional'] = df['Operasional'] * 10_000\n",
    "df"
   ]
  },
  {
   "cell_type": "code",
   "execution_count": 4,
   "id": "928a0c1b",
   "metadata": {},
   "outputs": [
    {
     "name": "stderr",
     "output_type": "stream",
     "text": [
      "C:\\Users\\asus\\anaconda3\\lib\\site-packages\\pandas\\util\\__init__.py:8: FutureWarning: pandas.util.testing is deprecated. Use the functions in the public API at pandas.testing instead.\n",
      "  import pandas.util.testing\n"
     ]
    },
    {
     "data": {
      "text/html": [
       "<div>\n",
       "<style scoped>\n",
       "    .dataframe tbody tr th:only-of-type {\n",
       "        vertical-align: middle;\n",
       "    }\n",
       "\n",
       "    .dataframe tbody tr th {\n",
       "        vertical-align: top;\n",
       "    }\n",
       "\n",
       "    .dataframe thead th {\n",
       "        text-align: right;\n",
       "    }\n",
       "</style>\n",
       "<table border=\"1\" class=\"dataframe\">\n",
       "  <thead>\n",
       "    <tr style=\"text-align: right;\">\n",
       "      <th></th>\n",
       "      <th>Tanggal</th>\n",
       "      <th>Omset</th>\n",
       "      <th>Operasional</th>\n",
       "    </tr>\n",
       "  </thead>\n",
       "  <tbody>\n",
       "    <tr>\n",
       "      <th>0</th>\n",
       "      <td>2000-01-01</td>\n",
       "      <td>1000000</td>\n",
       "      <td>150000</td>\n",
       "    </tr>\n",
       "    <tr>\n",
       "      <th>1</th>\n",
       "      <td>2000-01-02</td>\n",
       "      <td>1600000</td>\n",
       "      <td>30000</td>\n",
       "    </tr>\n",
       "    <tr>\n",
       "      <th>2</th>\n",
       "      <td>2000-01-03</td>\n",
       "      <td>1700000</td>\n",
       "      <td>90000</td>\n",
       "    </tr>\n",
       "    <tr>\n",
       "      <th>3</th>\n",
       "      <td>2000-01-04</td>\n",
       "      <td>700000</td>\n",
       "      <td>100000</td>\n",
       "    </tr>\n",
       "    <tr>\n",
       "      <th>4</th>\n",
       "      <td>2000-01-05</td>\n",
       "      <td>600000</td>\n",
       "      <td>180000</td>\n",
       "    </tr>\n",
       "    <tr>\n",
       "      <th>5</th>\n",
       "      <td>2000-01-06</td>\n",
       "      <td>400000</td>\n",
       "      <td>190000</td>\n",
       "    </tr>\n",
       "  </tbody>\n",
       "</table>\n",
       "</div>"
      ],
      "text/plain": [
       "     Tanggal    Omset  Operasional\n",
       "0 2000-01-01  1000000       150000\n",
       "1 2000-01-02  1600000        30000\n",
       "2 2000-01-03  1700000        90000\n",
       "3 2000-01-04   700000       100000\n",
       "4 2000-01-05   600000       180000\n",
       "5 2000-01-06   400000       190000"
      ]
     },
     "execution_count": 4,
     "metadata": {},
     "output_type": "execute_result"
    }
   ],
   "source": [
    "#Mempersiapkan Data Frame tahap 3\n",
    "\n",
    "df.index = pd.util.testing.makeDateIndex(n_rows, freq='D')\n",
    "df = df.reset_index() #Berfungsi untuk menjadikan index saat ini menjadi sebuah kolom biasa dengan nama index\n",
    "df = df.rename(columns={'index':'Tanggal'})\n",
    "df"
   ]
  },
  {
   "cell_type": "code",
   "execution_count": 5,
   "id": "5cf4720a",
   "metadata": {},
   "outputs": [
    {
     "data": {
      "text/html": [
       "<style  type=\"text/css\" >\n",
       "</style><table id=\"T_380fa_\" ><thead>    <tr>        <th class=\"blank level0\" ></th>        <th class=\"col_heading level0 col0\" >Tanggal</th>        <th class=\"col_heading level0 col1\" >Omset</th>        <th class=\"col_heading level0 col2\" >Operasional</th>    </tr></thead><tbody>\n",
       "                <tr>\n",
       "                        <th id=\"T_380fa_level0_row0\" class=\"row_heading level0 row0\" >0</th>\n",
       "                        <td id=\"T_380fa_row0_col0\" class=\"data row0 col0\" >01/01/00</td>\n",
       "                        <td id=\"T_380fa_row0_col1\" class=\"data row0 col1\" >Rp 1000000.00</td>\n",
       "                        <td id=\"T_380fa_row0_col2\" class=\"data row0 col2\" >Rp 150000.00</td>\n",
       "            </tr>\n",
       "            <tr>\n",
       "                        <th id=\"T_380fa_level0_row1\" class=\"row_heading level0 row1\" >1</th>\n",
       "                        <td id=\"T_380fa_row1_col0\" class=\"data row1 col0\" >02/01/00</td>\n",
       "                        <td id=\"T_380fa_row1_col1\" class=\"data row1 col1\" >Rp 1600000.00</td>\n",
       "                        <td id=\"T_380fa_row1_col2\" class=\"data row1 col2\" >Rp 30000.00</td>\n",
       "            </tr>\n",
       "            <tr>\n",
       "                        <th id=\"T_380fa_level0_row2\" class=\"row_heading level0 row2\" >2</th>\n",
       "                        <td id=\"T_380fa_row2_col0\" class=\"data row2 col0\" >03/01/00</td>\n",
       "                        <td id=\"T_380fa_row2_col1\" class=\"data row2 col1\" >Rp 1700000.00</td>\n",
       "                        <td id=\"T_380fa_row2_col2\" class=\"data row2 col2\" >Rp 90000.00</td>\n",
       "            </tr>\n",
       "            <tr>\n",
       "                        <th id=\"T_380fa_level0_row3\" class=\"row_heading level0 row3\" >3</th>\n",
       "                        <td id=\"T_380fa_row3_col0\" class=\"data row3 col0\" >04/01/00</td>\n",
       "                        <td id=\"T_380fa_row3_col1\" class=\"data row3 col1\" >Rp 700000.00</td>\n",
       "                        <td id=\"T_380fa_row3_col2\" class=\"data row3 col2\" >Rp 100000.00</td>\n",
       "            </tr>\n",
       "            <tr>\n",
       "                        <th id=\"T_380fa_level0_row4\" class=\"row_heading level0 row4\" >4</th>\n",
       "                        <td id=\"T_380fa_row4_col0\" class=\"data row4 col0\" >05/01/00</td>\n",
       "                        <td id=\"T_380fa_row4_col1\" class=\"data row4 col1\" >Rp 600000.00</td>\n",
       "                        <td id=\"T_380fa_row4_col2\" class=\"data row4 col2\" >Rp 180000.00</td>\n",
       "            </tr>\n",
       "            <tr>\n",
       "                        <th id=\"T_380fa_level0_row5\" class=\"row_heading level0 row5\" >5</th>\n",
       "                        <td id=\"T_380fa_row5_col0\" class=\"data row5 col0\" >06/01/00</td>\n",
       "                        <td id=\"T_380fa_row5_col1\" class=\"data row5 col1\" >Rp 400000.00</td>\n",
       "                        <td id=\"T_380fa_row5_col2\" class=\"data row5 col2\" >Rp 190000.00</td>\n",
       "            </tr>\n",
       "    </tbody></table>"
      ],
      "text/plain": [
       "<pandas.io.formats.style.Styler at 0x26f4bf2f640>"
      ]
     },
     "execution_count": 5,
     "metadata": {},
     "output_type": "execute_result"
    }
   ],
   "source": [
    "#Melakukan formatting tampilan Data Frame\n",
    "\n",
    "#Style format\n",
    "formatku = {'Tanggal':'{:%d/%m/%y}',\n",
    "            'Operasional':'Rp {:.2f}',\n",
    "            'Omset': 'Rp {:.2f}'}\n",
    "\n",
    "laporan = df.style.format (formatku)\n",
    "laporan"
   ]
  },
  {
   "cell_type": "code",
   "execution_count": 6,
   "id": "90730ee2",
   "metadata": {},
   "outputs": [
    {
     "data": {
      "text/plain": [
       "pandas.io.formats.style.Styler"
      ]
     },
     "execution_count": 6,
     "metadata": {},
     "output_type": "execute_result"
    }
   ],
   "source": [
    "type(laporan) #Untuk mengetahui tipe data"
   ]
  },
  {
   "cell_type": "code",
   "execution_count": 7,
   "id": "5d2869b0",
   "metadata": {},
   "outputs": [
    {
     "data": {
      "text/html": [
       "<style  type=\"text/css\" >\n",
       "</style><table id=\"T_380fa_\" ><thead>    <tr>        <th class=\"col_heading level0 col0\" >Tanggal</th>        <th class=\"col_heading level0 col1\" >Omset</th>        <th class=\"col_heading level0 col2\" >Operasional</th>    </tr></thead><tbody>\n",
       "                <tr>\n",
       "                                <td id=\"T_380fa_row0_col0\" class=\"data row0 col0\" >01/01/00</td>\n",
       "                        <td id=\"T_380fa_row0_col1\" class=\"data row0 col1\" >Rp 1000000.00</td>\n",
       "                        <td id=\"T_380fa_row0_col2\" class=\"data row0 col2\" >Rp 150000.00</td>\n",
       "            </tr>\n",
       "            <tr>\n",
       "                                <td id=\"T_380fa_row1_col0\" class=\"data row1 col0\" >02/01/00</td>\n",
       "                        <td id=\"T_380fa_row1_col1\" class=\"data row1 col1\" >Rp 1600000.00</td>\n",
       "                        <td id=\"T_380fa_row1_col2\" class=\"data row1 col2\" >Rp 30000.00</td>\n",
       "            </tr>\n",
       "            <tr>\n",
       "                                <td id=\"T_380fa_row2_col0\" class=\"data row2 col0\" >03/01/00</td>\n",
       "                        <td id=\"T_380fa_row2_col1\" class=\"data row2 col1\" >Rp 1700000.00</td>\n",
       "                        <td id=\"T_380fa_row2_col2\" class=\"data row2 col2\" >Rp 90000.00</td>\n",
       "            </tr>\n",
       "            <tr>\n",
       "                                <td id=\"T_380fa_row3_col0\" class=\"data row3 col0\" >04/01/00</td>\n",
       "                        <td id=\"T_380fa_row3_col1\" class=\"data row3 col1\" >Rp 700000.00</td>\n",
       "                        <td id=\"T_380fa_row3_col2\" class=\"data row3 col2\" >Rp 100000.00</td>\n",
       "            </tr>\n",
       "            <tr>\n",
       "                                <td id=\"T_380fa_row4_col0\" class=\"data row4 col0\" >05/01/00</td>\n",
       "                        <td id=\"T_380fa_row4_col1\" class=\"data row4 col1\" >Rp 600000.00</td>\n",
       "                        <td id=\"T_380fa_row4_col2\" class=\"data row4 col2\" >Rp 180000.00</td>\n",
       "            </tr>\n",
       "            <tr>\n",
       "                                <td id=\"T_380fa_row5_col0\" class=\"data row5 col0\" >06/01/00</td>\n",
       "                        <td id=\"T_380fa_row5_col1\" class=\"data row5 col1\" >Rp 400000.00</td>\n",
       "                        <td id=\"T_380fa_row5_col2\" class=\"data row5 col2\" >Rp 190000.00</td>\n",
       "            </tr>\n",
       "    </tbody></table>"
      ],
      "text/plain": [
       "<pandas.io.formats.style.Styler at 0x26f4bf2f640>"
      ]
     },
     "execution_count": 7,
     "metadata": {},
     "output_type": "execute_result"
    }
   ],
   "source": [
    "laporan.hide_index() #Menyembunyikan index"
   ]
  },
  {
   "cell_type": "code",
   "execution_count": 8,
   "id": "63161f75",
   "metadata": {},
   "outputs": [
    {
     "data": {
      "text/html": [
       "<style  type=\"text/css\" >\n",
       "</style><table id=\"T_380fa_\" ><caption>Data Omset dan Operasional</caption><thead>    <tr>        <th class=\"col_heading level0 col0\" >Tanggal</th>        <th class=\"col_heading level0 col1\" >Omset</th>        <th class=\"col_heading level0 col2\" >Operasional</th>    </tr></thead><tbody>\n",
       "                <tr>\n",
       "                                <td id=\"T_380fa_row0_col0\" class=\"data row0 col0\" >01/01/00</td>\n",
       "                        <td id=\"T_380fa_row0_col1\" class=\"data row0 col1\" >Rp 1000000.00</td>\n",
       "                        <td id=\"T_380fa_row0_col2\" class=\"data row0 col2\" >Rp 150000.00</td>\n",
       "            </tr>\n",
       "            <tr>\n",
       "                                <td id=\"T_380fa_row1_col0\" class=\"data row1 col0\" >02/01/00</td>\n",
       "                        <td id=\"T_380fa_row1_col1\" class=\"data row1 col1\" >Rp 1600000.00</td>\n",
       "                        <td id=\"T_380fa_row1_col2\" class=\"data row1 col2\" >Rp 30000.00</td>\n",
       "            </tr>\n",
       "            <tr>\n",
       "                                <td id=\"T_380fa_row2_col0\" class=\"data row2 col0\" >03/01/00</td>\n",
       "                        <td id=\"T_380fa_row2_col1\" class=\"data row2 col1\" >Rp 1700000.00</td>\n",
       "                        <td id=\"T_380fa_row2_col2\" class=\"data row2 col2\" >Rp 90000.00</td>\n",
       "            </tr>\n",
       "            <tr>\n",
       "                                <td id=\"T_380fa_row3_col0\" class=\"data row3 col0\" >04/01/00</td>\n",
       "                        <td id=\"T_380fa_row3_col1\" class=\"data row3 col1\" >Rp 700000.00</td>\n",
       "                        <td id=\"T_380fa_row3_col2\" class=\"data row3 col2\" >Rp 100000.00</td>\n",
       "            </tr>\n",
       "            <tr>\n",
       "                                <td id=\"T_380fa_row4_col0\" class=\"data row4 col0\" >05/01/00</td>\n",
       "                        <td id=\"T_380fa_row4_col1\" class=\"data row4 col1\" >Rp 600000.00</td>\n",
       "                        <td id=\"T_380fa_row4_col2\" class=\"data row4 col2\" >Rp 180000.00</td>\n",
       "            </tr>\n",
       "            <tr>\n",
       "                                <td id=\"T_380fa_row5_col0\" class=\"data row5 col0\" >06/01/00</td>\n",
       "                        <td id=\"T_380fa_row5_col1\" class=\"data row5 col1\" >Rp 400000.00</td>\n",
       "                        <td id=\"T_380fa_row5_col2\" class=\"data row5 col2\" >Rp 190000.00</td>\n",
       "            </tr>\n",
       "    </tbody></table>"
      ],
      "text/plain": [
       "<pandas.io.formats.style.Styler at 0x26f4bf2f640>"
      ]
     },
     "execution_count": 8,
     "metadata": {},
     "output_type": "execute_result"
    }
   ],
   "source": [
    "laporan.set_caption('Data Omset dan Operasional')"
   ]
  },
  {
   "cell_type": "code",
   "execution_count": 9,
   "id": "8d047a20",
   "metadata": {},
   "outputs": [
    {
     "data": {
      "text/html": [
       "<style  type=\"text/css\" >\n",
       "#T_380fa_row1_col2{\n",
       "            background-color:  lightblue;\n",
       "            background-color:  grey;\n",
       "        }#T_380fa_row2_col1{\n",
       "            background-color:  lightgreen;\n",
       "        }#T_380fa_row5_col1{\n",
       "            background-color:  pink;\n",
       "        }</style><table id=\"T_380fa_\" ><caption>Data Omset dan Operasional</caption><thead>    <tr>        <th class=\"col_heading level0 col0\" >Tanggal</th>        <th class=\"col_heading level0 col1\" >Omset</th>        <th class=\"col_heading level0 col2\" >Operasional</th>    </tr></thead><tbody>\n",
       "                <tr>\n",
       "                                <td id=\"T_380fa_row0_col0\" class=\"data row0 col0\" >01/01/00</td>\n",
       "                        <td id=\"T_380fa_row0_col1\" class=\"data row0 col1\" >Rp 1000000.00</td>\n",
       "                        <td id=\"T_380fa_row0_col2\" class=\"data row0 col2\" >Rp 150000.00</td>\n",
       "            </tr>\n",
       "            <tr>\n",
       "                                <td id=\"T_380fa_row1_col0\" class=\"data row1 col0\" >02/01/00</td>\n",
       "                        <td id=\"T_380fa_row1_col1\" class=\"data row1 col1\" >Rp 1600000.00</td>\n",
       "                        <td id=\"T_380fa_row1_col2\" class=\"data row1 col2\" >Rp 30000.00</td>\n",
       "            </tr>\n",
       "            <tr>\n",
       "                                <td id=\"T_380fa_row2_col0\" class=\"data row2 col0\" >03/01/00</td>\n",
       "                        <td id=\"T_380fa_row2_col1\" class=\"data row2 col1\" >Rp 1700000.00</td>\n",
       "                        <td id=\"T_380fa_row2_col2\" class=\"data row2 col2\" >Rp 90000.00</td>\n",
       "            </tr>\n",
       "            <tr>\n",
       "                                <td id=\"T_380fa_row3_col0\" class=\"data row3 col0\" >04/01/00</td>\n",
       "                        <td id=\"T_380fa_row3_col1\" class=\"data row3 col1\" >Rp 700000.00</td>\n",
       "                        <td id=\"T_380fa_row3_col2\" class=\"data row3 col2\" >Rp 100000.00</td>\n",
       "            </tr>\n",
       "            <tr>\n",
       "                                <td id=\"T_380fa_row4_col0\" class=\"data row4 col0\" >05/01/00</td>\n",
       "                        <td id=\"T_380fa_row4_col1\" class=\"data row4 col1\" >Rp 600000.00</td>\n",
       "                        <td id=\"T_380fa_row4_col2\" class=\"data row4 col2\" >Rp 180000.00</td>\n",
       "            </tr>\n",
       "            <tr>\n",
       "                                <td id=\"T_380fa_row5_col0\" class=\"data row5 col0\" >06/01/00</td>\n",
       "                        <td id=\"T_380fa_row5_col1\" class=\"data row5 col1\" >Rp 400000.00</td>\n",
       "                        <td id=\"T_380fa_row5_col2\" class=\"data row5 col2\" >Rp 190000.00</td>\n",
       "            </tr>\n",
       "    </tbody></table>"
      ],
      "text/plain": [
       "<pandas.io.formats.style.Styler at 0x26f4bf2f640>"
      ]
     },
     "execution_count": 9,
     "metadata": {},
     "output_type": "execute_result"
    }
   ],
   "source": [
    "laporan.highlight_min('Omset', color='pink')            #Membuat warna pada kolom omset yang bernilai kecil\n",
    "laporan.highlight_max('Omset', color='lightgreen')      #Membuat warna pada kolom omset yang bernilai besar\n",
    "\n",
    "laporan.highlight_min('Operasional', color='lightblue') #Membuat warna pada kolom operasional yang bernilai kecil\n",
    "laporan.highlight_min('Operasional', color='grey')      #Membuat warna pada kolom operasional yang bernilai besar"
   ]
  },
  {
   "cell_type": "code",
   "execution_count": null,
   "id": "61da6d5d",
   "metadata": {},
   "outputs": [],
   "source": []
  }
 ],
 "metadata": {
  "kernelspec": {
   "display_name": "Python 3",
   "language": "python",
   "name": "python3"
  },
  "language_info": {
   "codemirror_mode": {
    "name": "ipython",
    "version": 3
   },
   "file_extension": ".py",
   "mimetype": "text/x-python",
   "name": "python",
   "nbconvert_exporter": "python",
   "pygments_lexer": "ipython3",
   "version": "3.8.8"
  }
 },
 "nbformat": 4,
 "nbformat_minor": 5
}
